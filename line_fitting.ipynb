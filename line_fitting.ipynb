{
 "cells": [
  {
   "cell_type": "markdown",
   "id": "8d82f8fb",
   "metadata": {},
   "source": [
    "# Example of line fitting"
   ]
  },
  {
   "cell_type": "markdown",
   "id": "a3cd07cf",
   "metadata": {},
   "source": [
    "First we import our libraries"
   ]
  },
  {
   "cell_type": "code",
   "execution_count": null,
   "id": "11b2d641",
   "metadata": {},
   "outputs": [],
   "source": [
    "%matplotlib inline\n",
    "import matplotlib.pyplot as plt\n",
    "import numpy as np"
   ]
  },
  {
   "cell_type": "markdown",
   "id": "1d273fe9",
   "metadata": {},
   "source": [
    "Generate some mock data -- a line with gaussian random noise"
   ]
  },
  {
   "cell_type": "code",
   "execution_count": null,
   "id": "282cd689",
   "metadata": {},
   "outputs": [],
   "source": [
    "#set a random number seed\n",
    "np.random.seed(119)\n",
    "\n",
    "#set number of data points\n",
    "npoints = 50\n",
    "\n",
    "#set x\n",
    "x = np.linspace(0,10.,npoints)\n",
    "\n",
    "#set slope, intercept, and scatter rms\n",
    "m = 2.0 # slopes\n",
    "b = 1.0 # intercept\n",
    "sigma = 2.0 #RMS scatter in the noise\n",
    "\n",
    "#generate the points\n",
    "y = m*x + b + np.random.normal(scale=sigma, size=npoints)\n",
    "y_err = np.full(npoints,sigma)\n"
   ]
  },
  {
   "cell_type": "markdown",
   "id": "87950735",
   "metadata": {},
   "source": [
    "### Let's plot the data first"
   ]
  },
  {
   "cell_type": "code",
   "execution_count": null,
   "id": "7fe2de96",
   "metadata": {},
   "outputs": [],
   "source": [
    "f = plt.figure(figsize=(7,7))\n",
    "plt.errorbar(x,y,sigma,fmt='o')\n",
    "plt.xlabel('x')\n",
    "plt.ylabel('y')"
   ]
  },
  {
   "cell_type": "markdown",
   "id": "b48e1da9",
   "metadata": {},
   "source": [
    "## Fitting method #1, polyfit()"
   ]
  },
  {
   "cell_type": "code",
   "execution_count": null,
   "id": "955b24c3",
   "metadata": {},
   "outputs": [],
   "source": [
    "m_fit, b_fit = np.poly1d(np.polyfit(x,y,1,w=1./y_err)) #weighted linear fit\n",
    "print(m_fit, b_fit)\n",
    "y_fit = m_fit * x + b_fit"
   ]
  },
  {
   "cell_type": "code",
   "execution_count": null,
   "id": "82a6d082",
   "metadata": {},
   "outputs": [],
   "source": [
    "f = plt.figure(figsize=(7,7))\n",
    "plt.errorbar(x,y,sigma,fmt='o')\n",
    "plt.plot(x,y_fit,label='fit')\n",
    "plt.xlabel('x')\n",
    "plt.ylabel('y')\n",
    "plt.legend(loc=2,frameon=False)\n"
   ]
  },
  {
   "cell_type": "markdown",
   "id": "1082a562",
   "metadata": {},
   "source": [
    "## Method #2, scipy + optimize"
   ]
  },
  {
   "cell_type": "code",
   "execution_count": null,
   "id": "cee1fab4",
   "metadata": {},
   "outputs": [],
   "source": [
    "#import omptimize from scipy\n",
    "from scipy import optimize\n",
    "\n",
    "#define a function to fit\n",
    "def f_line(x, m, b):\n",
    "    return m*x + b\n",
    "\n",
    "#perform the fit\n",
    "params, params_cov = optimize.curve_fit(f_line,x,y,sigma=y_err)\n",
    "\n",
    "m_fit_s = params[0]\n",
    "b_fit_s = params[1]\n",
    "\n",
    "print(m_fit_s,b_fit_s)"
   ]
  },
  {
   "cell_type": "code",
   "execution_count": null,
   "id": "f85d6795",
   "metadata": {},
   "outputs": [],
   "source": [
    "f = plt.figure(figsize=(7,7))\n",
    "plt.errorbar(x,y,sigma,fmt='o',label='data')\n",
    "plt.plot(x,y_fit,label='fit')\n",
    "#plt.plot(x,m_fit_s*x + b_fit_s,label='fit using scipy')\n",
    "\n",
    "plt.xlabel('x')\n",
    "plt.ylabel('y')\n",
    "plt.legend(loc=2,frameon=False)"
   ]
  },
  {
   "cell_type": "markdown",
   "id": "1902e010",
   "metadata": {},
   "source": [
    "# Perform a more complicated fit"
   ]
  },
  {
   "cell_type": "code",
   "execution_count": null,
   "id": "22430bdd",
   "metadata": {},
   "outputs": [],
   "source": [
    "# redefine x and y\n",
    "npoints = 50\n",
    "x = np.linspace(0., 2*np.pi, npoints)\n",
    "\n",
    "#make a complicated function\n",
    "a = 3.4\n",
    "b = 2.1\n",
    "c = 0.27\n",
    "d = -1.3\n",
    "sig = 0.6\n",
    "\n",
    "y = a*np.sin(b*x + c) + d + np.random.normal(scale=sig,size=npoints)\n",
    "y_err = np.full(npoints,sig)\n",
    "\n",
    "f = plt.figure(figsize=(7,7))\n",
    "plt.errorbar(x,y,yerr=y_err,fmt='o')\n",
    "plt.xlabel('x')\n",
    "plt.ylabel('y')"
   ]
  },
  {
   "cell_type": "markdown",
   "id": "8fcd603c",
   "metadata": {},
   "source": [
    "### Perform a fit using scipy"
   ]
  },
  {
   "cell_type": "code",
   "execution_count": null,
   "id": "c6829adb",
   "metadata": {},
   "outputs": [],
   "source": [
    "# import optimize from scipy\n",
    "from scipy import optimize\n",
    "\n",
    "#define the function to fit\n",
    "def f_curve(x, a, b, c, d):\n",
    "    return a* np.sin(b*x + c) + d\n",
    "\n",
    "#perform the fit\n",
    "params, params_cov = optimize.curve_fit(f_curve,x,y,sigma=y_err,p0=[1.,2.,0.1,-0.1])\n",
    "\n",
    "a_fit = params[0]\n",
    "b_fit = params[1]\n",
    "c_fit = params[2]\n",
    "d_fit = params[3]\n",
    "\n",
    "print(a_fit, b_fit, c_fit, d_fit)\n",
    "\n",
    "y_fit = a_fit * np.sin(b_fit * x + c_fit) + d_fit"
   ]
  },
  {
   "cell_type": "code",
   "execution_count": null,
   "id": "1aa870af",
   "metadata": {},
   "outputs": [],
   "source": [
    "f = plt.figure(figsize=(7,7))\n",
    "plt.errorbar(x,y,yerr=y_err,fmt='o',label='data')\n",
    "plt.plot(x,y_fit,label='fit')\n",
    "\n",
    "plt.xlabel('x')\n",
    "plt.ylabel('y')\n",
    "plt.legend(loc=0,frameon=False)"
   ]
  },
  {
   "cell_type": "code",
   "execution_count": null,
   "id": "7d413e31",
   "metadata": {},
   "outputs": [],
   "source": []
  }
 ],
 "metadata": {
  "kernelspec": {
   "display_name": "Python 3 (ipykernel)",
   "language": "python",
   "name": "python3"
  },
  "language_info": {
   "codemirror_mode": {
    "name": "ipython",
    "version": 3
   },
   "file_extension": ".py",
   "mimetype": "text/x-python",
   "name": "python",
   "nbconvert_exporter": "python",
   "pygments_lexer": "ipython3",
   "version": "3.9.7"
  }
 },
 "nbformat": 4,
 "nbformat_minor": 5
}
